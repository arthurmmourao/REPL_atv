{
  "cells": [
    {
      "cell_type": "markdown",
      "metadata": {
        "id": "view-in-github",
        "colab_type": "text"
      },
      "source": [
        "<a href=\"https://colab.research.google.com/github/arthurmmourao/REPL_atv/blob/main/Trabalho.ipynb\" target=\"_parent\"><img src=\"https://colab.research.google.com/assets/colab-badge.svg\" alt=\"Open In Colab\"/></a>"
      ]
    },
    {
      "cell_type": "code",
      "source": [
        "from google.colab import drive\n",
        "drive.mount('/content/drive')"
      ],
      "metadata": {
        "id": "s8uiTzqkpyX3"
      },
      "execution_count": null,
      "outputs": []
    },
    {
      "cell_type": "code",
      "execution_count": null,
      "metadata": {
        "id": "OXBKQfQh0cUe"
      },
      "outputs": [],
      "source": [
        "import os.path\n",
        "import pandas as pd\n",
        "import matplotlib.pyplot as plt\n",
        "import numpy as np\n",
        "import seaborn as sns\n",
        "from scipy import stats\n",
        "\n",
        "from datetime import datetime\n",
        "\n",
        "%matplotlib inline\n",
        "\n",
        "dados = pd.read_excel('/content/drive/MyDrive/dados probabilidade.xlsx', index_col=3)\n"
      ]
    },
    {
      "cell_type": "code",
      "execution_count": null,
      "metadata": {
        "id": "JkD8A_r54X79"
      },
      "outputs": [],
      "source": [
        "dados.head()"
      ]
    },
    {
      "source": [
        "# @title NATUREZA DO DIVORCIO\n",
        "\n",
        "from matplotlib import pyplot as plt\n",
        "dados['NATUREZA DO DIVORCIO'].plot(kind='hist', bins=20, title='NATUREZA DO DIVORCIO')\n",
        "plt.gca().spines[['top', 'right',]].set_visible(False)"
      ],
      "cell_type": "code",
      "execution_count": null,
      "outputs": [],
      "metadata": {
        "id": "y06uYjRWqMr8"
      }
    },
    {
      "cell_type": "markdown",
      "source": [
        "## Classificação das variáveis por tipo\n",
        "Data do Divórcio:\n",
        "\n",
        "Data do Casamento: Quantitativa\n",
        "\n",
        "Regime de Bens: Qualitativa nominaL\n",
        "\n",
        "Ano de Nascimento do Conjuge 1:\n",
        "\n",
        "Idade Conjunge 1: quantitativa Contínua\n",
        "\n",
        "Ano de Nascimento do Conjuge 2:\n",
        "\n",
        "Idade Conjunge 2: quantitativa Contínua"
      ],
      "metadata": {
        "id": "en41tDKh6Qyy"
      }
    },
    {
      "cell_type": "code",
      "source": [
        "# Passo 9: Substituir valores numéricos pelos rótulos de texto na coluna 'TIPO_DIVORCIO' (ou 'NATUREZA DO DIVORCIO')\n",
        "dados['NATUREZA DO DIVORCIO'] = dados['NATUREZA DO DIVORCIO'].replace({1: 'Consensual', 2: 'Requerido pelo Homem', 3: 'Requerido pela Mulher'})\n",
        "\n",
        "# Gráfico 3: Gráfico de Barras para Tipos de Divórcio\n",
        "plt.figure(figsize=(10, 6))\n",
        "tipo_divorcio_counts = dados['NATUREZA DO DIVORCIO'].value_counts()\n",
        "tipo_divorcio_counts.plot(kind='bar')\n",
        "plt.title('Frequências de Tipos de Divórcio')\n",
        "plt.xlabel('Tipo de Divórcio')\n",
        "plt.ylabel('Frequência')\n",
        "plt.xticks(rotation=0)\n",
        "plt.grid(axis='y')\n",
        "plt.show()\n"
      ],
      "metadata": {
        "colab": {
          "base_uri": "https://localhost:8080/",
          "height": 211
        },
        "id": "tXySXYeDnPvf",
        "outputId": "bbfc775c-5f8f-454a-cc9d-c606a70d42eb"
      },
      "execution_count": 2,
      "outputs": [
        {
          "output_type": "error",
          "ename": "NameError",
          "evalue": "name 'dados' is not defined",
          "traceback": [
            "\u001b[0;31m---------------------------------------------------------------------------\u001b[0m",
            "\u001b[0;31mNameError\u001b[0m                                 Traceback (most recent call last)",
            "\u001b[0;32m<ipython-input-2-801d5c7b9aa3>\u001b[0m in \u001b[0;36m<cell line: 2>\u001b[0;34m()\u001b[0m\n\u001b[1;32m      1\u001b[0m \u001b[0;31m# Passo 9: Substituir valores numéricos pelos rótulos de texto na coluna 'TIPO_DIVORCIO' (ou 'NATUREZA DO DIVORCIO')\u001b[0m\u001b[0;34m\u001b[0m\u001b[0;34m\u001b[0m\u001b[0m\n\u001b[0;32m----> 2\u001b[0;31m \u001b[0mdados\u001b[0m\u001b[0;34m[\u001b[0m\u001b[0;34m'NATUREZA DO DIVORCIO'\u001b[0m\u001b[0;34m]\u001b[0m \u001b[0;34m=\u001b[0m \u001b[0mdados\u001b[0m\u001b[0;34m[\u001b[0m\u001b[0;34m'NATUREZA DO DIVORCIO'\u001b[0m\u001b[0;34m]\u001b[0m\u001b[0;34m.\u001b[0m\u001b[0mreplace\u001b[0m\u001b[0;34m(\u001b[0m\u001b[0;34m{\u001b[0m\u001b[0;36m1\u001b[0m\u001b[0;34m:\u001b[0m \u001b[0;34m'Consensual'\u001b[0m\u001b[0;34m,\u001b[0m \u001b[0;36m2\u001b[0m\u001b[0;34m:\u001b[0m \u001b[0;34m'Requerido pelo Homem'\u001b[0m\u001b[0;34m,\u001b[0m \u001b[0;36m3\u001b[0m\u001b[0;34m:\u001b[0m \u001b[0;34m'Requerido pela Mulher'\u001b[0m\u001b[0;34m}\u001b[0m\u001b[0;34m)\u001b[0m\u001b[0;34m\u001b[0m\u001b[0;34m\u001b[0m\u001b[0m\n\u001b[0m\u001b[1;32m      3\u001b[0m \u001b[0;34m\u001b[0m\u001b[0m\n\u001b[1;32m      4\u001b[0m \u001b[0;31m# Gráfico 3: Gráfico de Barras para Tipos de Divórcio\u001b[0m\u001b[0;34m\u001b[0m\u001b[0;34m\u001b[0m\u001b[0m\n\u001b[1;32m      5\u001b[0m \u001b[0mplt\u001b[0m\u001b[0;34m.\u001b[0m\u001b[0mfigure\u001b[0m\u001b[0;34m(\u001b[0m\u001b[0mfigsize\u001b[0m\u001b[0;34m=\u001b[0m\u001b[0;34m(\u001b[0m\u001b[0;36m10\u001b[0m\u001b[0;34m,\u001b[0m \u001b[0;36m6\u001b[0m\u001b[0;34m)\u001b[0m\u001b[0;34m)\u001b[0m\u001b[0;34m\u001b[0m\u001b[0;34m\u001b[0m\u001b[0m\n",
            "\u001b[0;31mNameError\u001b[0m: name 'dados' is not defined"
          ]
        }
      ]
    },
    {
      "cell_type": "code",
      "execution_count": null,
      "metadata": {
        "id": "hMLkYRQX3n6x"
      },
      "outputs": [],
      "source": [
        "# Tabela de frequências absolutas\n",
        "\n",
        "tab = pd.crosstab(index=dados['REGIME BENS'], columns='count')\n",
        "\n",
        "tab"
      ]
    },
    {
      "cell_type": "code",
      "source": [
        "tab = pd.crosstab(index=dados['REGIME BENS'], columns='count')\n",
        "\n",
        "# Tabela de frequências relativas\n",
        "tab/tab.sum()"
      ],
      "metadata": {
        "id": "72w4bI_Z7wva"
      },
      "execution_count": null,
      "outputs": []
    },
    {
      "cell_type": "code",
      "execution_count": null,
      "metadata": {
        "id": "TkUyIPKk5IjE"
      },
      "outputs": [],
      "source": [
        "# Tabela de frequências absolutas\n",
        "\n",
        "tab = pd.crosstab(index=dados['IDADE CONJ1'], columns='count')\n",
        "\n",
        "tab"
      ]
    },
    {
      "cell_type": "code",
      "execution_count": null,
      "metadata": {
        "id": "ZHf0wwCi5Zcr"
      },
      "outputs": [],
      "source": [
        "# Tabela de frequências absolutas\n",
        "\n",
        "tab = pd.crosstab(index=dados['IDADE CONJ2'], columns='count')\n",
        "\n",
        "tab"
      ]
    },
    {
      "cell_type": "code",
      "source": [
        "# Tabela de frequências absolutas\n",
        "\n",
        "tab = pd.crosstab(index=dados['TRIM'], columns='count')\n",
        "\n",
        "tab"
      ],
      "metadata": {
        "id": "10nxn44S9_N2"
      },
      "execution_count": null,
      "outputs": []
    },
    {
      "cell_type": "markdown",
      "source": [
        "## Medidas NATUREZA DO DIVORCIO\n"
      ],
      "metadata": {
        "id": "dcozhX578V7X"
      }
    },
    {
      "cell_type": "code",
      "execution_count": null,
      "metadata": {
        "id": "6siSiHRb5lSY",
        "colab": {
          "base_uri": "https://localhost:8080/",
          "height": 772
        },
        "outputId": "19a63ff4-98cd-4c6b-f071-a7f4fb66960b"
      },
      "outputs": [
        {
          "output_type": "error",
          "ename": "TypeError",
          "evalue": "Could not convert Requerido pelo HomemConsensualConsensualConsensualRequerido pela MulherConsensualConsensualRequerido pelo HomemConsensualConsensualConsensualRequerido pela MulherRequerido pela MulherRequerido pela MulherRequerido pela MulherRequerido pela MulherRequerido pela MulherRequerido pela MulherRequerido pela MulherRequerido pela MulherRequerido pela MulherRequerido pela MulherRequerido pelo HomemConsensualRequerido pela MulherRequerido pelo HomemConsensualRequerido pelo HomemRequerido pela MulherRequerido pelo HomemRequerido pelo HomemRequerido pelo HomemRequerido pelo HomemRequerido pelo HomemRequerido pelo HomemRequerido pelo HomemRequerido pelo HomemRequerido pelo HomemRequerido pela MulherRequerido pela MulherRequerido pelo HomemRequerido pelo HomemConsensualRequerido pela MulherRequerido pelo HomemConsensualConsensualRequerido pela MulherConsensualRequerido pela MulherRequerido pelo HomemRequerido pelo HomemRequerido pelo HomemRequerido pela MulherRequerido pela MulherRequerido pelo HomemRequerido pela MulherConsensualConsensualConsensualRequerido pelo HomemConsensualRequerido pela MulherRequerido pela MulherConsensualRequerido pelo HomemRequerido pelo HomemConsensualRequerido pelo HomemConsensualConsensualRequerido pela MulherRequerido pela MulherRequerido pelo HomemRequerido pela MulherRequerido pelo HomemRequerido pela MulherConsensualRequerido pela MulherRequerido pelo HomemRequerido pelo HomemConsensualConsensualConsensualRequerido pela MulherConsensualRequerido pelo HomemRequerido pela MulherRequerido pelo HomemConsensualConsensualRequerido pela MulherConsensualRequerido pela MulherRequerido pela MulherRequerido pela MulherConsensualRequerido pela MulherRequerido pela MulherRequerido pelo HomemRequerido pela MulherRequerido pela MulherRequerido pela MulherRequerido pela MulherRequerido pela MulherRequerido pela MulherRequerido pela MulherConsensualRequerido pela MulherRequerido pela MulherRequerido pelo HomemConsensualRequerido pelo HomemConsensualRequerido pela MulherRequerido pela MulherRequerido pela MulherConsensualRequerido pela MulherRequerido pela MulherRequerido pela MulherRequerido pelo HomemRequerido pela MulherConsensualRequerido pela MulherRequerido pela MulherRequerido pela MulherConsensualConsensualRequerido pelo HomemRequerido pelo HomemRequerido pelo HomemRequerido pela MulherRequerido pela MulherRequerido pelo HomemRequerido pelo HomemRequerido pela MulherConsensualRequerido pela MulherRequerido pela MulherRequerido pela MulherRequerido pela MulherRequerido pela MulherRequerido pela MulherRequerido pela MulherRequerido pelo HomemConsensualRequerido pela MulherConsensualConsensualConsensualRequerido pela MulherConsensualRequerido pela MulherConsensualRequerido pela MulherRequerido pelo HomemRequerido pelo HomemConsensualRequerido pela MulherConsensualConsensualRequerido pela MulherConsensualConsensualRequerido pelo HomemRequerido pela MulherConsensualRequerido pela MulherRequerido pela MulherConsensualConsensualConsensualRequerido pelo HomemConsensualRequerido pela MulherRequerido pelo HomemRequerido pelo HomemConsensualConsensualConsensualRequerido pelo HomemRequerido pela MulherRequerido pela MulherRequerido pelo HomemRequerido pela MulherRequerido pela MulherRequerido pelo HomemRequerido pela MulherConsensualConsensualRequerido pelo HomemConsensualRequerido pelo HomemRequerido pela MulherConsensualRequerido pela MulherRequerido pela MulherRequerido pelo HomemRequerido pelo HomemRequerido pela MulherConsensualRequerido pelo HomemRequerido pela MulherConsensualConsensualRequerido pelo HomemRequerido pelo HomemConsensualRequerido pelo HomemRequerido pela MulherRequerido pelo HomemRequerido pelo HomemRequerido pela MulherRequerido pelo HomemConsensualConsensualRequerido pela MulherRequerido pelo HomemConsensualRequerido pela MulherConsensualConsensualRequerido pela MulherConsensualConsensualConsensualConsensualConsensualConsensualConsensualRequerido pelo HomemConsensualConsensualRequerido pelo HomemConsensualConsensual to numeric",
          "traceback": [
            "\u001b[0;31m---------------------------------------------------------------------------\u001b[0m",
            "\u001b[0;31mValueError\u001b[0m                                Traceback (most recent call last)",
            "\u001b[0;32m/usr/local/lib/python3.10/dist-packages/pandas/core/nanops.py\u001b[0m in \u001b[0;36m_ensure_numeric\u001b[0;34m(x)\u001b[0m\n\u001b[1;32m   1691\u001b[0m         \u001b[0;32mtry\u001b[0m\u001b[0;34m:\u001b[0m\u001b[0;34m\u001b[0m\u001b[0;34m\u001b[0m\u001b[0m\n\u001b[0;32m-> 1692\u001b[0;31m             \u001b[0mx\u001b[0m \u001b[0;34m=\u001b[0m \u001b[0mfloat\u001b[0m\u001b[0;34m(\u001b[0m\u001b[0mx\u001b[0m\u001b[0;34m)\u001b[0m\u001b[0;34m\u001b[0m\u001b[0;34m\u001b[0m\u001b[0m\n\u001b[0m\u001b[1;32m   1693\u001b[0m         \u001b[0;32mexcept\u001b[0m \u001b[0;34m(\u001b[0m\u001b[0mTypeError\u001b[0m\u001b[0;34m,\u001b[0m \u001b[0mValueError\u001b[0m\u001b[0;34m)\u001b[0m\u001b[0;34m:\u001b[0m\u001b[0;34m\u001b[0m\u001b[0;34m\u001b[0m\u001b[0m\n",
            "\u001b[0;31mValueError\u001b[0m: could not convert string to float: 'Requerido pelo HomemConsensualConsensualConsensualRequerido pela MulherConsensualConsensualRequerido pelo HomemConsensualConsensualConsensualRequerido pela MulherRequerido pela MulherRequerido pela MulherRequerido pela MulherRequerido pela MulherRequerido pela MulherRequerido pela MulherRequerido pela MulherRequerido pela MulherRequerido pela MulherRequerido pela MulherRequerido pelo HomemConsensualRequerido pela MulherRequerido pelo HomemConsensualRequerido pelo HomemRequerido pela MulherRequerido pelo HomemRequerido pelo HomemRequerido pelo HomemRequerido pelo HomemRequerido pelo HomemRequerido pelo HomemRequerido pelo HomemRequerido pelo HomemRequerido pelo HomemRequerido pela MulherRequerido pela MulherRequerido pelo HomemRequerido pelo HomemConsensualRequerido pela MulherRequerido pelo HomemConsensualConsensualRequerido pela MulherConsensualRequerido pela MulherRequerido pelo HomemRequerido pelo HomemRequerido pelo HomemRequerido pela MulherRequerido pela MulherRequerido pelo HomemRequerido pela MulherConsensualConsensualConsensualRequerido pelo HomemConsensualRequerido pela MulherRequerido pela MulherConsensualRequerido pelo HomemRequerido pelo HomemConsensualRequerido pelo HomemConsensualConsensualRequerido pela MulherRequerido pela MulherRequerido pelo HomemRequerido pela MulherRequerido pelo HomemRequerido pela MulherConsensualRequerido pela MulherRequerido pelo HomemRequerido pelo HomemConsensualConsensua...",
            "\nDuring handling of the above exception, another exception occurred:\n",
            "\u001b[0;31mValueError\u001b[0m                                Traceback (most recent call last)",
            "\u001b[0;32m/usr/local/lib/python3.10/dist-packages/pandas/core/nanops.py\u001b[0m in \u001b[0;36m_ensure_numeric\u001b[0;34m(x)\u001b[0m\n\u001b[1;32m   1695\u001b[0m             \u001b[0;32mtry\u001b[0m\u001b[0;34m:\u001b[0m\u001b[0;34m\u001b[0m\u001b[0;34m\u001b[0m\u001b[0m\n\u001b[0;32m-> 1696\u001b[0;31m                 \u001b[0mx\u001b[0m \u001b[0;34m=\u001b[0m \u001b[0mcomplex\u001b[0m\u001b[0;34m(\u001b[0m\u001b[0mx\u001b[0m\u001b[0;34m)\u001b[0m\u001b[0;34m\u001b[0m\u001b[0;34m\u001b[0m\u001b[0m\n\u001b[0m\u001b[1;32m   1697\u001b[0m             \u001b[0;32mexcept\u001b[0m \u001b[0mValueError\u001b[0m \u001b[0;32mas\u001b[0m \u001b[0merr\u001b[0m\u001b[0;34m:\u001b[0m\u001b[0;34m\u001b[0m\u001b[0;34m\u001b[0m\u001b[0m\n",
            "\u001b[0;31mValueError\u001b[0m: complex() arg is a malformed string",
            "\nThe above exception was the direct cause of the following exception:\n",
            "\u001b[0;31mTypeError\u001b[0m                                 Traceback (most recent call last)",
            "\u001b[0;32m<ipython-input-22-984622cc4c40>\u001b[0m in \u001b[0;36m<cell line: 3>\u001b[0;34m()\u001b[0m\n\u001b[1;32m      1\u001b[0m \u001b[0;31m# Média\u001b[0m\u001b[0;34m\u001b[0m\u001b[0;34m\u001b[0m\u001b[0m\n\u001b[1;32m      2\u001b[0m \u001b[0;34m\u001b[0m\u001b[0m\n\u001b[0;32m----> 3\u001b[0;31m \u001b[0mdados\u001b[0m\u001b[0;34m[\u001b[0m\u001b[0;34m'NATUREZA DO DIVORCIO'\u001b[0m\u001b[0;34m]\u001b[0m\u001b[0;34m.\u001b[0m\u001b[0mmean\u001b[0m\u001b[0;34m(\u001b[0m\u001b[0;34m)\u001b[0m\u001b[0;34m\u001b[0m\u001b[0;34m\u001b[0m\u001b[0m\n\u001b[0m",
            "\u001b[0;32m/usr/local/lib/python3.10/dist-packages/pandas/core/generic.py\u001b[0m in \u001b[0;36mmean\u001b[0;34m(self, axis, skipna, numeric_only, **kwargs)\u001b[0m\n\u001b[1;32m  11554\u001b[0m             \u001b[0;34m**\u001b[0m\u001b[0mkwargs\u001b[0m\u001b[0;34m,\u001b[0m\u001b[0;34m\u001b[0m\u001b[0;34m\u001b[0m\u001b[0m\n\u001b[1;32m  11555\u001b[0m         ):\n\u001b[0;32m> 11556\u001b[0;31m             \u001b[0;32mreturn\u001b[0m \u001b[0mNDFrame\u001b[0m\u001b[0;34m.\u001b[0m\u001b[0mmean\u001b[0m\u001b[0;34m(\u001b[0m\u001b[0mself\u001b[0m\u001b[0;34m,\u001b[0m \u001b[0maxis\u001b[0m\u001b[0;34m,\u001b[0m \u001b[0mskipna\u001b[0m\u001b[0;34m,\u001b[0m \u001b[0mnumeric_only\u001b[0m\u001b[0;34m,\u001b[0m \u001b[0;34m**\u001b[0m\u001b[0mkwargs\u001b[0m\u001b[0;34m)\u001b[0m\u001b[0;34m\u001b[0m\u001b[0;34m\u001b[0m\u001b[0m\n\u001b[0m\u001b[1;32m  11557\u001b[0m \u001b[0;34m\u001b[0m\u001b[0m\n\u001b[1;32m  11558\u001b[0m         \u001b[0msetattr\u001b[0m\u001b[0;34m(\u001b[0m\u001b[0mcls\u001b[0m\u001b[0;34m,\u001b[0m \u001b[0;34m\"mean\"\u001b[0m\u001b[0;34m,\u001b[0m \u001b[0mmean\u001b[0m\u001b[0;34m)\u001b[0m\u001b[0;34m\u001b[0m\u001b[0;34m\u001b[0m\u001b[0m\n",
            "\u001b[0;32m/usr/local/lib/python3.10/dist-packages/pandas/core/generic.py\u001b[0m in \u001b[0;36mmean\u001b[0;34m(self, axis, skipna, numeric_only, **kwargs)\u001b[0m\n\u001b[1;32m  11199\u001b[0m         \u001b[0;34m**\u001b[0m\u001b[0mkwargs\u001b[0m\u001b[0;34m,\u001b[0m\u001b[0;34m\u001b[0m\u001b[0;34m\u001b[0m\u001b[0m\n\u001b[1;32m  11200\u001b[0m     ) -> Series | float:\n\u001b[0;32m> 11201\u001b[0;31m         return self._stat_function(\n\u001b[0m\u001b[1;32m  11202\u001b[0m             \u001b[0;34m\"mean\"\u001b[0m\u001b[0;34m,\u001b[0m \u001b[0mnanops\u001b[0m\u001b[0;34m.\u001b[0m\u001b[0mnanmean\u001b[0m\u001b[0;34m,\u001b[0m \u001b[0maxis\u001b[0m\u001b[0;34m,\u001b[0m \u001b[0mskipna\u001b[0m\u001b[0;34m,\u001b[0m \u001b[0mnumeric_only\u001b[0m\u001b[0;34m,\u001b[0m \u001b[0;34m**\u001b[0m\u001b[0mkwargs\u001b[0m\u001b[0;34m\u001b[0m\u001b[0;34m\u001b[0m\u001b[0m\n\u001b[1;32m  11203\u001b[0m         )\n",
            "\u001b[0;32m/usr/local/lib/python3.10/dist-packages/pandas/core/generic.py\u001b[0m in \u001b[0;36m_stat_function\u001b[0;34m(self, name, func, axis, skipna, numeric_only, **kwargs)\u001b[0m\n\u001b[1;32m  11156\u001b[0m         \u001b[0mvalidate_bool_kwarg\u001b[0m\u001b[0;34m(\u001b[0m\u001b[0mskipna\u001b[0m\u001b[0;34m,\u001b[0m \u001b[0;34m\"skipna\"\u001b[0m\u001b[0;34m,\u001b[0m \u001b[0mnone_allowed\u001b[0m\u001b[0;34m=\u001b[0m\u001b[0;32mFalse\u001b[0m\u001b[0;34m)\u001b[0m\u001b[0;34m\u001b[0m\u001b[0;34m\u001b[0m\u001b[0m\n\u001b[1;32m  11157\u001b[0m \u001b[0;34m\u001b[0m\u001b[0m\n\u001b[0;32m> 11158\u001b[0;31m         return self._reduce(\n\u001b[0m\u001b[1;32m  11159\u001b[0m             \u001b[0mfunc\u001b[0m\u001b[0;34m,\u001b[0m \u001b[0mname\u001b[0m\u001b[0;34m=\u001b[0m\u001b[0mname\u001b[0m\u001b[0;34m,\u001b[0m \u001b[0maxis\u001b[0m\u001b[0;34m=\u001b[0m\u001b[0maxis\u001b[0m\u001b[0;34m,\u001b[0m \u001b[0mskipna\u001b[0m\u001b[0;34m=\u001b[0m\u001b[0mskipna\u001b[0m\u001b[0;34m,\u001b[0m \u001b[0mnumeric_only\u001b[0m\u001b[0;34m=\u001b[0m\u001b[0mnumeric_only\u001b[0m\u001b[0;34m\u001b[0m\u001b[0;34m\u001b[0m\u001b[0m\n\u001b[1;32m  11160\u001b[0m         )\n",
            "\u001b[0;32m/usr/local/lib/python3.10/dist-packages/pandas/core/series.py\u001b[0m in \u001b[0;36m_reduce\u001b[0;34m(self, op, name, axis, skipna, numeric_only, filter_type, **kwds)\u001b[0m\n\u001b[1;32m   4668\u001b[0m                 )\n\u001b[1;32m   4669\u001b[0m             \u001b[0;32mwith\u001b[0m \u001b[0mnp\u001b[0m\u001b[0;34m.\u001b[0m\u001b[0merrstate\u001b[0m\u001b[0;34m(\u001b[0m\u001b[0mall\u001b[0m\u001b[0;34m=\u001b[0m\u001b[0;34m\"ignore\"\u001b[0m\u001b[0;34m)\u001b[0m\u001b[0;34m:\u001b[0m\u001b[0;34m\u001b[0m\u001b[0;34m\u001b[0m\u001b[0m\n\u001b[0;32m-> 4670\u001b[0;31m                 \u001b[0;32mreturn\u001b[0m \u001b[0mop\u001b[0m\u001b[0;34m(\u001b[0m\u001b[0mdelegate\u001b[0m\u001b[0;34m,\u001b[0m \u001b[0mskipna\u001b[0m\u001b[0;34m=\u001b[0m\u001b[0mskipna\u001b[0m\u001b[0;34m,\u001b[0m \u001b[0;34m**\u001b[0m\u001b[0mkwds\u001b[0m\u001b[0;34m)\u001b[0m\u001b[0;34m\u001b[0m\u001b[0;34m\u001b[0m\u001b[0m\n\u001b[0m\u001b[1;32m   4671\u001b[0m \u001b[0;34m\u001b[0m\u001b[0m\n\u001b[1;32m   4672\u001b[0m     def _reindex_indexer(\n",
            "\u001b[0;32m/usr/local/lib/python3.10/dist-packages/pandas/core/nanops.py\u001b[0m in \u001b[0;36m_f\u001b[0;34m(*args, **kwargs)\u001b[0m\n\u001b[1;32m     94\u001b[0m             \u001b[0;32mtry\u001b[0m\u001b[0;34m:\u001b[0m\u001b[0;34m\u001b[0m\u001b[0;34m\u001b[0m\u001b[0m\n\u001b[1;32m     95\u001b[0m                 \u001b[0;32mwith\u001b[0m \u001b[0mnp\u001b[0m\u001b[0;34m.\u001b[0m\u001b[0merrstate\u001b[0m\u001b[0;34m(\u001b[0m\u001b[0minvalid\u001b[0m\u001b[0;34m=\u001b[0m\u001b[0;34m\"ignore\"\u001b[0m\u001b[0;34m)\u001b[0m\u001b[0;34m:\u001b[0m\u001b[0;34m\u001b[0m\u001b[0;34m\u001b[0m\u001b[0m\n\u001b[0;32m---> 96\u001b[0;31m                     \u001b[0;32mreturn\u001b[0m \u001b[0mf\u001b[0m\u001b[0;34m(\u001b[0m\u001b[0;34m*\u001b[0m\u001b[0margs\u001b[0m\u001b[0;34m,\u001b[0m \u001b[0;34m**\u001b[0m\u001b[0mkwargs\u001b[0m\u001b[0;34m)\u001b[0m\u001b[0;34m\u001b[0m\u001b[0;34m\u001b[0m\u001b[0m\n\u001b[0m\u001b[1;32m     97\u001b[0m             \u001b[0;32mexcept\u001b[0m \u001b[0mValueError\u001b[0m \u001b[0;32mas\u001b[0m \u001b[0me\u001b[0m\u001b[0;34m:\u001b[0m\u001b[0;34m\u001b[0m\u001b[0;34m\u001b[0m\u001b[0m\n\u001b[1;32m     98\u001b[0m                 \u001b[0;31m# we want to transform an object array\u001b[0m\u001b[0;34m\u001b[0m\u001b[0;34m\u001b[0m\u001b[0m\n",
            "\u001b[0;32m/usr/local/lib/python3.10/dist-packages/pandas/core/nanops.py\u001b[0m in \u001b[0;36mf\u001b[0;34m(values, axis, skipna, **kwds)\u001b[0m\n\u001b[1;32m    156\u001b[0m                     \u001b[0mresult\u001b[0m \u001b[0;34m=\u001b[0m \u001b[0malt\u001b[0m\u001b[0;34m(\u001b[0m\u001b[0mvalues\u001b[0m\u001b[0;34m,\u001b[0m \u001b[0maxis\u001b[0m\u001b[0;34m=\u001b[0m\u001b[0maxis\u001b[0m\u001b[0;34m,\u001b[0m \u001b[0mskipna\u001b[0m\u001b[0;34m=\u001b[0m\u001b[0mskipna\u001b[0m\u001b[0;34m,\u001b[0m \u001b[0;34m**\u001b[0m\u001b[0mkwds\u001b[0m\u001b[0;34m)\u001b[0m\u001b[0;34m\u001b[0m\u001b[0;34m\u001b[0m\u001b[0m\n\u001b[1;32m    157\u001b[0m             \u001b[0;32melse\u001b[0m\u001b[0;34m:\u001b[0m\u001b[0;34m\u001b[0m\u001b[0;34m\u001b[0m\u001b[0m\n\u001b[0;32m--> 158\u001b[0;31m                 \u001b[0mresult\u001b[0m \u001b[0;34m=\u001b[0m \u001b[0malt\u001b[0m\u001b[0;34m(\u001b[0m\u001b[0mvalues\u001b[0m\u001b[0;34m,\u001b[0m \u001b[0maxis\u001b[0m\u001b[0;34m=\u001b[0m\u001b[0maxis\u001b[0m\u001b[0;34m,\u001b[0m \u001b[0mskipna\u001b[0m\u001b[0;34m=\u001b[0m\u001b[0mskipna\u001b[0m\u001b[0;34m,\u001b[0m \u001b[0;34m**\u001b[0m\u001b[0mkwds\u001b[0m\u001b[0;34m)\u001b[0m\u001b[0;34m\u001b[0m\u001b[0;34m\u001b[0m\u001b[0m\n\u001b[0m\u001b[1;32m    159\u001b[0m \u001b[0;34m\u001b[0m\u001b[0m\n\u001b[1;32m    160\u001b[0m             \u001b[0;32mreturn\u001b[0m \u001b[0mresult\u001b[0m\u001b[0;34m\u001b[0m\u001b[0;34m\u001b[0m\u001b[0m\n",
            "\u001b[0;32m/usr/local/lib/python3.10/dist-packages/pandas/core/nanops.py\u001b[0m in \u001b[0;36mnew_func\u001b[0;34m(values, axis, skipna, mask, **kwargs)\u001b[0m\n\u001b[1;32m    419\u001b[0m             \u001b[0mmask\u001b[0m \u001b[0;34m=\u001b[0m \u001b[0misna\u001b[0m\u001b[0;34m(\u001b[0m\u001b[0mvalues\u001b[0m\u001b[0;34m)\u001b[0m\u001b[0;34m\u001b[0m\u001b[0;34m\u001b[0m\u001b[0m\n\u001b[1;32m    420\u001b[0m \u001b[0;34m\u001b[0m\u001b[0m\n\u001b[0;32m--> 421\u001b[0;31m         \u001b[0mresult\u001b[0m \u001b[0;34m=\u001b[0m \u001b[0mfunc\u001b[0m\u001b[0;34m(\u001b[0m\u001b[0mvalues\u001b[0m\u001b[0;34m,\u001b[0m \u001b[0maxis\u001b[0m\u001b[0;34m=\u001b[0m\u001b[0maxis\u001b[0m\u001b[0;34m,\u001b[0m \u001b[0mskipna\u001b[0m\u001b[0;34m=\u001b[0m\u001b[0mskipna\u001b[0m\u001b[0;34m,\u001b[0m \u001b[0mmask\u001b[0m\u001b[0;34m=\u001b[0m\u001b[0mmask\u001b[0m\u001b[0;34m,\u001b[0m \u001b[0;34m**\u001b[0m\u001b[0mkwargs\u001b[0m\u001b[0;34m)\u001b[0m\u001b[0;34m\u001b[0m\u001b[0;34m\u001b[0m\u001b[0m\n\u001b[0m\u001b[1;32m    422\u001b[0m \u001b[0;34m\u001b[0m\u001b[0m\n\u001b[1;32m    423\u001b[0m         \u001b[0;32mif\u001b[0m \u001b[0mdatetimelike\u001b[0m\u001b[0;34m:\u001b[0m\u001b[0;34m\u001b[0m\u001b[0;34m\u001b[0m\u001b[0m\n",
            "\u001b[0;32m/usr/local/lib/python3.10/dist-packages/pandas/core/nanops.py\u001b[0m in \u001b[0;36mnanmean\u001b[0;34m(values, axis, skipna, mask)\u001b[0m\n\u001b[1;32m    725\u001b[0m \u001b[0;34m\u001b[0m\u001b[0m\n\u001b[1;32m    726\u001b[0m     \u001b[0mcount\u001b[0m \u001b[0;34m=\u001b[0m \u001b[0m_get_counts\u001b[0m\u001b[0;34m(\u001b[0m\u001b[0mvalues\u001b[0m\u001b[0;34m.\u001b[0m\u001b[0mshape\u001b[0m\u001b[0;34m,\u001b[0m \u001b[0mmask\u001b[0m\u001b[0;34m,\u001b[0m \u001b[0maxis\u001b[0m\u001b[0;34m,\u001b[0m \u001b[0mdtype\u001b[0m\u001b[0;34m=\u001b[0m\u001b[0mdtype_count\u001b[0m\u001b[0;34m)\u001b[0m\u001b[0;34m\u001b[0m\u001b[0;34m\u001b[0m\u001b[0m\n\u001b[0;32m--> 727\u001b[0;31m     \u001b[0mthe_sum\u001b[0m \u001b[0;34m=\u001b[0m \u001b[0m_ensure_numeric\u001b[0m\u001b[0;34m(\u001b[0m\u001b[0mvalues\u001b[0m\u001b[0;34m.\u001b[0m\u001b[0msum\u001b[0m\u001b[0;34m(\u001b[0m\u001b[0maxis\u001b[0m\u001b[0;34m,\u001b[0m \u001b[0mdtype\u001b[0m\u001b[0;34m=\u001b[0m\u001b[0mdtype_sum\u001b[0m\u001b[0;34m)\u001b[0m\u001b[0;34m)\u001b[0m\u001b[0;34m\u001b[0m\u001b[0;34m\u001b[0m\u001b[0m\n\u001b[0m\u001b[1;32m    728\u001b[0m \u001b[0;34m\u001b[0m\u001b[0m\n\u001b[1;32m    729\u001b[0m     \u001b[0;32mif\u001b[0m \u001b[0maxis\u001b[0m \u001b[0;32mis\u001b[0m \u001b[0;32mnot\u001b[0m \u001b[0;32mNone\u001b[0m \u001b[0;32mand\u001b[0m \u001b[0mgetattr\u001b[0m\u001b[0;34m(\u001b[0m\u001b[0mthe_sum\u001b[0m\u001b[0;34m,\u001b[0m \u001b[0;34m\"ndim\"\u001b[0m\u001b[0;34m,\u001b[0m \u001b[0;32mFalse\u001b[0m\u001b[0;34m)\u001b[0m\u001b[0;34m:\u001b[0m\u001b[0;34m\u001b[0m\u001b[0;34m\u001b[0m\u001b[0m\n",
            "\u001b[0;32m/usr/local/lib/python3.10/dist-packages/pandas/core/nanops.py\u001b[0m in \u001b[0;36m_ensure_numeric\u001b[0;34m(x)\u001b[0m\n\u001b[1;32m   1697\u001b[0m             \u001b[0;32mexcept\u001b[0m \u001b[0mValueError\u001b[0m \u001b[0;32mas\u001b[0m \u001b[0merr\u001b[0m\u001b[0;34m:\u001b[0m\u001b[0;34m\u001b[0m\u001b[0;34m\u001b[0m\u001b[0m\n\u001b[1;32m   1698\u001b[0m                 \u001b[0;31m# e.g. \"foo\"\u001b[0m\u001b[0;34m\u001b[0m\u001b[0;34m\u001b[0m\u001b[0m\n\u001b[0;32m-> 1699\u001b[0;31m                 \u001b[0;32mraise\u001b[0m \u001b[0mTypeError\u001b[0m\u001b[0;34m(\u001b[0m\u001b[0;34mf\"Could not convert {x} to numeric\"\u001b[0m\u001b[0;34m)\u001b[0m \u001b[0;32mfrom\u001b[0m \u001b[0merr\u001b[0m\u001b[0;34m\u001b[0m\u001b[0;34m\u001b[0m\u001b[0m\n\u001b[0m\u001b[1;32m   1700\u001b[0m     \u001b[0;32mreturn\u001b[0m \u001b[0mx\u001b[0m\u001b[0;34m\u001b[0m\u001b[0;34m\u001b[0m\u001b[0m\n\u001b[1;32m   1701\u001b[0m \u001b[0;34m\u001b[0m\u001b[0m\n",
            "\u001b[0;31mTypeError\u001b[0m: Could not convert Requerido pelo HomemConsensualConsensualConsensualRequerido pela MulherConsensualConsensualRequerido pelo HomemConsensualConsensualConsensualRequerido pela MulherRequerido pela MulherRequerido pela MulherRequerido pela MulherRequerido pela MulherRequerido pela MulherRequerido pela MulherRequerido pela MulherRequerido pela MulherRequerido pela MulherRequerido pela MulherRequerido pelo HomemConsensualRequerido pela MulherRequerido pelo HomemConsensualRequerido pelo HomemRequerido pela MulherRequerido pelo HomemRequerido pelo HomemRequerido pelo HomemRequerido pelo HomemRequerido pelo HomemRequerido pelo HomemRequerido pelo HomemRequerido pelo HomemRequerido pelo HomemRequerido pela MulherRequerido pela MulherRequerido pelo HomemRequerido pelo HomemConsensualRequerido pela MulherRequerido pelo HomemConsensualConsensualRequerido pela MulherConsensualRequerido pela MulherRequerido pelo HomemRequerido pelo HomemRequerido pelo HomemRequerido pela MulherRequerido pela MulherRequerido pelo HomemRequerido pela MulherConsensualConsensualConsensualRequerido pelo HomemConsensualRequerido pela MulherRequerido pela MulherConsensualRequerido pelo HomemRequerido pelo HomemConsensualRequerido pelo HomemConsensualConsensualRequerido pela MulherRequerido pela MulherRequerido pelo HomemRequerido pela MulherRequerido pelo HomemRequerido pela MulherConsensualRequerido pela MulherRequerido pelo HomemRequerido pelo HomemConsensualConsensualConsensualRequerid..."
          ]
        }
      ],
      "source": [
        "# Média\n",
        "\n",
        "dados['NATUREZA DO DIVORCIO'].mean()"
      ]
    },
    {
      "cell_type": "code",
      "execution_count": null,
      "metadata": {
        "id": "LEhtWnLRobhi"
      },
      "outputs": [],
      "source": [
        "# Mediana\n",
        "\n",
        "dados['NATUREZA DO DIVORCIO'].median()"
      ]
    },
    {
      "cell_type": "code",
      "source": [
        "# Moda\n",
        "import statistics\n",
        "\n",
        "statistics.mode(dados['NATUREZA DO DIVORCIO'])"
      ],
      "metadata": {
        "id": "hmSUpbLNK5Kr"
      },
      "execution_count": null,
      "outputs": []
    },
    {
      "cell_type": "code",
      "source": [],
      "metadata": {
        "id": "p8LYpmmTBZyv"
      },
      "execution_count": null,
      "outputs": []
    },
    {
      "cell_type": "markdown",
      "source": [
        "## Medidas IDADE CONJ1 E CONJ2\n"
      ],
      "metadata": {
        "id": "yLyZIKTiBdGB"
      }
    },
    {
      "cell_type": "code",
      "execution_count": null,
      "metadata": {
        "id": "7ckRUlL_BdGC"
      },
      "outputs": [],
      "source": [
        "# Média\n",
        "\n",
        "dados['IDADE CONJ1'].mean()"
      ]
    },
    {
      "cell_type": "code",
      "execution_count": null,
      "metadata": {
        "id": "0-J91Z0gBdGC"
      },
      "outputs": [],
      "source": [
        "# Mediana\n",
        "\n",
        "dados['NATUREZA DO DIVORCIO'].median()"
      ]
    },
    {
      "cell_type": "code",
      "source": [
        "# Moda\n",
        "import statistics\n",
        "\n",
        "statistics.mode(dados['NATUREZA DO DIVORCIO'])"
      ],
      "metadata": {
        "id": "PoyRjHz6BdGC"
      },
      "execution_count": null,
      "outputs": []
    },
    {
      "cell_type": "code",
      "source": [],
      "metadata": {
        "id": "QZ4tvsr9BdGC"
      },
      "execution_count": null,
      "outputs": []
    },
    {
      "cell_type": "code",
      "source": [
        "# Desvio-padrão\n",
        "\n",
        "round(dados['IDADE CONJ1'].std())"
      ],
      "metadata": {
        "id": "8mAydoXQK-FQ"
      },
      "execution_count": null,
      "outputs": []
    },
    {
      "cell_type": "code",
      "source": [
        "# Passo 2: Converter os dados do formato 'ddmmyyyy' para datetime com tratamento de exceções\n",
        "def convert_date(date_str):\n",
        "    try:\n",
        "        return datetime.strptime(str(date_str), '%d%m%Y')\n",
        "    except ValueError:\n",
        "        return pd.NaT  # Retorna Not a Time (NaT) para datas inválidas\n",
        "\n",
        "# Supondo que as colunas se chamem 'DATA_CASAM' e 'DATA_DIVORCIO'\n",
        "dados['DATA CASAM'] = dados['DATA CASAM'].apply(convert_date)\n",
        "dados['DATA DIVORCIO'] = dados['DATA DIVORCIO'].apply(convert_date)\n",
        "\n",
        "# Passo 3: Filtrar valores inválidos (NaT)\n",
        "dados_validos = dados.dropna(subset=['DATA CASAM', 'DATA DIVORCIO'])\n",
        "\n",
        "# Passo 4: Calcular a duração do casamento em dias\n",
        "dados_validos['DURACAO_CASAMENTO'] = (dados_validos['DATA DIVORCIO'] - dados_validos['DATA CASAM']).dt.days\n",
        "\n",
        "# Passo 5: Calcular a duração média do casamento em dias\n",
        "media_duracao_dias = dados_validos['DURACAO_CASAMENTO'].mean()\n",
        "\n",
        "print('Média de dias duração do casamento', media_duracao_dias)\n",
        "\n",
        "# Passo 6: Calcular o desvio padrão da duração dos casamentos\n",
        "desvio_padrao_dias = dados_validos['DURACAO_CASAMENTO'].std()\n",
        "\n",
        "# Passo 6: Converter a duração média de dias para anos\n",
        "media_duracao_anos = media_duracao_dias / 365.25  # Aproximadamente considerando anos bissextos\n",
        "desvio_padrao_anos = desvio_padrao_dias / 365.25\n",
        "\n",
        "print(f'A duração média dos casamentos é de aproximadamente {media_duracao_anos:.2f} anos.\\n')\n",
        "\n",
        "# Exibir a tabela com a duração de cada casamento\n",
        "print(dados_validos[['DATA CASAM', 'DATA DIVORCIO', 'DURACAO_CASAMENTO']])\n",
        "\n",
        "# Passo 7: Criar uma tabela de frequências absolutas para a coluna 'REGIME BENS'\n",
        "# Substitua 'REGIME BENS' pelo nome exato da coluna no seu DataFrame\n",
        "tab = pd.crosstab(index=dados_validos['DURACAO_CASAMENTO'], columns='count')\n",
        "\n",
        "print(\"\\nTabela de frequências absolutas por duração do casamento:\")\n",
        "print(tab)\n",
        "\n",
        "# Gráfico 1: Gráfico de Barras para Frequências Absolutas por Regime de Bens\n",
        "plt.figure(figsize=(10, 6))\n",
        "tab.plot(kind='bar')\n",
        "plt.title('Frequências Absolutas por Duração do Casamento')\n",
        "plt.xlabel('Regime de Bens')\n",
        "plt.ylabel('Frequência')\n",
        "plt.legend(['Frequência'])\n",
        "plt.xticks(rotation=0)\n",
        "plt.grid(axis='y')\n",
        "plt.show()\n",
        "\n",
        "# Gráfico 2: Histograma da Duração dos Casamentos\n",
        "plt.figure(figsize=(10, 6))\n",
        "sns.histplot(dados_validos['DURACAO_CASAMENTO'], bins=30, kde=True)\n",
        "plt.title('Distribuição da Duração dos Casamentos')\n",
        "plt.xlabel('Duração do Casamento (dias)')\n",
        "plt.ylabel('Frequência')\n",
        "plt.grid(axis='y')\n",
        "plt.show()\n",
        "\n",
        "# Opcional: Salvar os dados processados em um novo arquivo Excel\n",
        "#dados_validos.to_excel('dados_processados.xlsx', index=False)\n"
      ],
      "metadata": {
        "id": "KU0YW0Q59Kjx"
      },
      "execution_count": null,
      "outputs": []
    },
    {
      "cell_type": "code",
      "source": [
        "# Passo 2: Converter os dados do formato 'ddmmyyyy' para datetime com tratamento de exceções\n",
        "def convert_date(date_str):\n",
        "    try:\n",
        "        return datetime.strptime(str(date_str), '%d%m%Y')\n",
        "    except ValueError:\n",
        "        return pd.NaT  # Retorna Not a Time (NaT) para datas inválidas\n",
        "\n",
        "# Supondo que as colunas se chamem 'DATA_CASAM' e 'DATA_DIVORCIO'\n",
        "dados['DATA CASAM'] = dados['DATA CASAM'].apply(convert_date)\n",
        "dados['DATA DIVORCIO'] = dados['DATA DIVORCIO'].apply(convert_date)\n",
        "\n",
        "# Passo 3: Filtrar valores inválidos (NaT)\n",
        "dados_validos = dados.dropna(subset=['DATA CASAM', 'DATA DIVORCIO'])\n",
        "\n",
        "# Passo 4: Calcular a duração do casamento em dias\n",
        "dados_validos['DURACAO_CASAMENTO'] = (dados_validos['DATA DIVORCIO'] - dados_validos['DATA CASAM']).dt.days\n",
        "\n",
        "yaer= dados_validos['DURACAO_CASAMENTO']/365.25\n",
        "\n",
        "print('A duração média é de ', yaer, ' anos.')\n",
        "\n",
        "# Passo 5: Calcular a duração média do casamento em dias\n",
        "media_duracao_dias = dados_validos['DURACAO_CASAMENTO'].mean()"
      ],
      "metadata": {
        "id": "8ueMI0wQsARH"
      },
      "execution_count": null,
      "outputs": []
    },
    {
      "cell_type": "code",
      "source": [
        "# Ordenação dos dados\n",
        "\n",
        "np.sort(dados['IDADE CONJ1'])"
      ],
      "metadata": {
        "id": "1gAU_HichWvn"
      },
      "execution_count": null,
      "outputs": []
    },
    {
      "cell_type": "code",
      "source": [
        "# Quantis de 95% e 25%\n",
        "\n",
        "np.percentile(dados['IDADE CONJ1'],95)"
      ],
      "metadata": {
        "id": "Ya7DKteahfxo"
      },
      "execution_count": null,
      "outputs": []
    },
    {
      "cell_type": "code",
      "source": [
        "np.percentile(dados['IDADE CONJ1'],25)"
      ],
      "metadata": {
        "id": "9fkTh5P0hy5H"
      },
      "execution_count": null,
      "outputs": []
    },
    {
      "cell_type": "code",
      "source": [
        "sns.displot(x=dados['IDADE CONJ1'], height=4, kind='kde');"
      ],
      "metadata": {
        "id": "lT6wKvYch0hP"
      },
      "execution_count": null,
      "outputs": []
    },
    {
      "cell_type": "code",
      "source": [
        "dados.describe()"
      ],
      "metadata": {
        "id": "2PY1nR3NjeVn"
      },
      "execution_count": null,
      "outputs": []
    },
    {
      "cell_type": "code",
      "source": [
        "dados.loc[:,dados.columns != 'NATUREZA DO DIVORCIO'].describe()"
      ],
      "metadata": {
        "id": "LlnNIwadjg-g"
      },
      "execution_count": null,
      "outputs": []
    },
    {
      "cell_type": "code",
      "source": [
        "tabplot = tab.plot.pie(y='count')"
      ],
      "metadata": {
        "id": "LKvrFMpFjr0Q"
      },
      "execution_count": null,
      "outputs": []
    },
    {
      "cell_type": "code",
      "source": [
        "#define Seaborn color palette to use\n",
        "colors = sns.color_palette('pastel')[0:5]\n",
        "plot = tab.plot.pie(y='count', colors=colors)"
      ],
      "metadata": {
        "id": "gla_p_z5jvVB"
      },
      "execution_count": null,
      "outputs": []
    },
    {
      "cell_type": "code",
      "source": [
        "tab.plot.bar()\n",
        "plt.legend(title='NATUREZA DO DIVORCIO')\n",
        "\n",
        "plt.show()"
      ],
      "metadata": {
        "id": "AnXVlhj0nshl"
      },
      "execution_count": null,
      "outputs": []
    }
  ],
  "metadata": {
    "colab": {
      "provenance": [],
      "authorship_tag": "ABX9TyPqZ0Ahg5i41GXyx8a1sL9u",
      "include_colab_link": true
    },
    "kernelspec": {
      "display_name": "Python 3",
      "name": "python3"
    },
    "language_info": {
      "name": "python"
    }
  },
  "nbformat": 4,
  "nbformat_minor": 0
}